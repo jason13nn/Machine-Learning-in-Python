{
 "cells": [
  {
   "cell_type": "code",
   "execution_count": 1,
   "metadata": {},
   "outputs": [],
   "source": [
    "import pandas as pd\n",
    "import numpy as np\n",
    "import itertools\n",
    "import time\n",
    "import statsmodels.api as sm\n",
    "import matplotlib.pyplot as plt\n",
    "from tqdm import tnrange, tqdm_notebook\n",
    "from sklearn import linear_model\n",
    "from sklearn.metrics import mean_squared_error\n",
    "from sklearn.model_selection import train_test_split\n",
    "from sklearn.linear_model import LinearRegression\n",
    "from sklearn.linear_model import RidgeCV, LassoCV\n",
    "from sklearn import preprocessing\n",
    "from sklearn.preprocessing import StandardScaler\n",
    "import warnings "
   ]
  },
  {
   "cell_type": "markdown",
   "metadata": {},
   "source": [
    "# Lab"
   ]
  },
  {
   "cell_type": "code",
   "execution_count": null,
   "metadata": {},
   "outputs": [],
   "source": [
    "#!/usr/bin/env python\n",
    "# coding: utf-8\n",
    "\n",
    "# ## Subset selection in python\n",
    "# \n",
    "# \n",
    "# This notebook explores common methods for performing subset selection on a regression model, namely\n",
    "# \n",
    "#     Best subset selection\n",
    "#     Forward stepwise selection\n",
    "#     Criteria for choosing the optimal model\n",
    "#         Cp, AIC, BIC, R2adj\n",
    "# \n",
    "# ## [Lab 2: Ridge Regression](#Ridge-Regression)\n",
    "# [Hitters Data](#Read-training-and-Test-data)\n",
    "# - [The Lasso](#The-LASSO)\n",
    "# - [Lab 3: Principal Components](#Principal-Components)\n",
    "# - [Lab 3: Partial Least Squares](#Partial-Least-Squares)\n",
    "\n",
    "# In[19]:\n",
    "\n",
    "\n",
    "import os\n",
    "os.chdir(\"C:\\\\Users\\\\AST\\\\OneDrive - Southern Methodist University\\\\Documents\\\\Documents\\\\SMU\\\\Machine Learning\\\\ISL Data\\\\IntroStatLearn-master\\\\data\\\\\")\n",
    "import itertools\n",
    "import time\n",
    "import numpy as np\n",
    "import pandas as pd\n",
    "import seaborn as sns\n",
    "import statsmodels.api as sm\n",
    "import matplotlib.pyplot as plt\n",
    "from sklearn import linear_model\n",
    "from sklearn.metrics import mean_squared_error\n",
    "from sklearn.linear_model import LinearRegression, Ridge, RidgeCV, Lasso, LassoCV\n",
    "\n",
    "get_ipython().run_line_magic('matplotlib', 'inline')\n",
    "plt.style.use('ggplot')\n",
    "\n",
    "\n",
    "# # Credit Data\n",
    "# The Credit data set displayed in Figure records balance (average credit card debt for a number of individuals) as well as several quantitative predictors: age, cards (number of credit cards), education (years of education), income (in thousands of dollars), limit (credit limit), and rating (credit rating). Each panel of Figure 3.6 is a scatterplot for a pair of variables whose identities are given by the corresponding row and column labels. For example, the scatterplot directly to the right of the word “Balance” depicts balance versus age, while the plot directly to the right of “Age” corresponds to age versus cards. In addition to these quantitative variables, we also have four qualitative variables: gender, student (student status), status (marital status), and ethnicity (Caucasian, African American or Asian).\n",
    "# [Statsmodel linear regression ](#first)\n",
    "\n",
    "# In[217]:\n",
    "\n",
    "\n",
    "credit = pd.read_csv('Credit.csv', usecols=list(range(1,12)))\n",
    "credit.head(3)\n",
    "\n",
    "\n",
    "# In[ ]:\n",
    "\n",
    "\n",
    "\n",
    "\n",
    "\n",
    "# In[218]:\n",
    "\n",
    "\n",
    "sns.pairplot(credit[['Balance','Age','Cards','Education','Income','Limit','Rating']]);\n",
    "\n",
    "\n",
    "# ## Statsmodel linear regression \n",
    "# <a id='first'></a>\n",
    "# \n",
    "# Least squares coefficient estimates associated with the regression of balance onto ethnicity in the Credit data set. The linear model is given in (3.30). That is, ethnicity is encoded via two dummy variables\n",
    "# \n",
    "\n",
    "# In[221]:\n",
    "\n",
    "\n",
    "#Setting up the X and Y variables, adding constant term for intercept\n",
    "Y = credit.Balance\n",
    "X = credit[['Ethnicity_Asian','Ethnicity_Caucasian']]\n",
    "X = sm.add_constant(X)\n",
    "X.head()\n",
    "\n",
    "\n",
    "# In[222]:\n",
    "\n",
    "\n",
    "# OLS Table\n",
    "model_1 = sm.OLS(Y, X)\n",
    "result_1 = model_1.fit()\n",
    "result_1.summary()\n",
    "\n",
    "\n",
    "# In[ ]:\n",
    "\n",
    "\n",
    "credit = pd.read_csv('Credit.csv', usecols=list(range(1,12))\n",
    "\n",
    "\n",
    "# In[220]:\n",
    "\n",
    "\n",
    "credit = pd.get_dummies(credit, columns = ['Gender', 'Student','Married','Ethnicity'],drop_first = True)\n",
    "credit.head(5)\n",
    "\n",
    "\n",
    "# ### Define function for fitting linear regression (Sklearn)¶\n",
    "\n",
    "# In[223]:\n",
    "\n",
    "\n",
    "def fit_linear_reg(X,Y):\n",
    "    #Fit linear regression model and return RSS and R squared values\n",
    "    model_k = linear_model.LinearRegression(fit_intercept = True)\n",
    "    model_k.fit(X,Y)\n",
    "    RSS = mean_squared_error(Y,model_k.predict(X)) * len(Y)\n",
    "    R_squared = model_k.score(X,Y)\n",
    "    return RSS, R_squared\n",
    "\n",
    "\n",
    "# ## Implementing Best subset selection (using itertools.combinations)\n",
    "\n",
    "# In[224]:\n",
    "\n",
    "\n",
    "#Importing tqdm for the progress bar\n",
    "from tqdm import tnrange, tqdm_notebook\n",
    "\n",
    "#Initialization variables\n",
    "Y = credit.Balance\n",
    "X = credit.drop(columns = 'Balance', axis = 1)\n",
    "k = 11\n",
    "RSS_list, R_squared_list, feature_list = [],[], []\n",
    "numb_features = []\n",
    "\n",
    "#Looping over k = 1 to k = 11 features in X\n",
    "for k in tnrange(1,len(X.columns) + 1, desc = 'Loop...'):\n",
    "\n",
    "    #Looping over all possible combinations: from 11 choose k\n",
    "    for combo in itertools.combinations(X.columns,k):\n",
    "        tmp_result = fit_linear_reg(X[list(combo)],Y)   #Store temp result \n",
    "        RSS_list.append(tmp_result[0])                  #Append lists\n",
    "        R_squared_list.append(tmp_result[1])\n",
    "        feature_list.append(combo)\n",
    "        numb_features.append(len(combo))   \n",
    "\n",
    "#Store in DataFrame\n",
    "df = pd.DataFrame({'numb_features': numb_features,'RSS': RSS_list, 'R_squared':R_squared_list,'features':feature_list})\n",
    "\n",
    "\n",
    "# ### Finding the best subsets for each number of features\n",
    "# \n",
    "# #### Using the smallest RSS value, or the largest R_squared value\n",
    "# \n",
    "\n",
    "# In[225]:\n",
    "\n",
    "\n",
    "df_min = df[df.groupby('numb_features')['RSS'].transform(min) == df['RSS']]\n",
    "df_max = df[df.groupby('numb_features')['R_squared'].transform(max) == df['R_squared']]\n",
    "display(df_min.head(3))\n",
    "display(df_max.head(3))\n",
    "\n",
    "\n",
    "# ### Adding columns to the dataframe with RSS and R squared values of the best subset\n",
    "\n",
    "# In[226]:\n",
    "\n",
    "\n",
    "df['min_RSS'] = df.groupby('numb_features')['RSS'].transform(min)\n",
    "df['max_R_squared'] = df.groupby('numb_features')['R_squared'].transform(max)\n",
    "df.head()\n",
    "\n",
    "\n",
    "# ## Plotting the best subset selection process\n",
    "\n",
    "# In[227]:\n",
    "\n",
    "\n",
    "fig = plt.figure(figsize = (16,6))\n",
    "ax = fig.add_subplot(1, 2, 1)\n",
    "\n",
    "ax.scatter(df.numb_features,df.RSS, alpha = .2, color = 'darkblue' )\n",
    "ax.set_xlabel('# Features')\n",
    "ax.set_ylabel('RSS')\n",
    "ax.set_title('RSS - Best subset selection')\n",
    "ax.plot(df.numb_features,df.min_RSS,color = 'r', label = 'Best subset')\n",
    "ax.legend()\n",
    "\n",
    "ax = fig.add_subplot(1, 2, 2)\n",
    "ax.scatter(df.numb_features,df.R_squared, alpha = .2, color = 'darkblue' )\n",
    "ax.plot(df.numb_features,df.max_R_squared,color = 'r', label = 'Best subset')\n",
    "ax.set_xlabel('# Features')\n",
    "ax.set_ylabel('R squared')\n",
    "ax.set_title('R_squared - Best subset selection')\n",
    "ax.legend()\n",
    "\n",
    "plt.show()\n",
    "\n",
    "\n",
    "# ## Forward stepwise selection\n",
    "\n",
    "# In[228]:\n",
    "\n",
    "\n",
    "#Initialization variables\n",
    "Y = credit.Balance\n",
    "X = credit.drop(columns = 'Balance', axis = 1)\n",
    "k = 11\n",
    "\n",
    "remaining_features = list(X.columns.values)\n",
    "features = []\n",
    "RSS_list, R_squared_list = [np.inf], [np.inf] #Due to 1 indexing of the loop...\n",
    "features_list = dict()\n",
    "\n",
    "for i in range(1,k+1):\n",
    "    best_RSS = np.inf\n",
    "    \n",
    "    for combo in itertools.combinations(remaining_features,1):\n",
    "\n",
    "            RSS = fit_linear_reg(X[list(combo) + features],Y)   #Store temp result \n",
    "\n",
    "            if RSS[0] < best_RSS:\n",
    "                best_RSS = RSS[0]\n",
    "                best_R_squared = RSS[1] \n",
    "                best_feature = combo[0]\n",
    "\n",
    "    #Updating variables for next loop\n",
    "    features.append(best_feature)\n",
    "    remaining_features.remove(best_feature)\n",
    "    \n",
    "    #Saving values for plotting\n",
    "    RSS_list.append(best_RSS)\n",
    "    R_squared_list.append(best_R_squared)\n",
    "    features_list[i] = features.copy()\n",
    "\n",
    "\n",
    "# In[229]:\n",
    "\n",
    "\n",
    "print('Forward stepwise subset selection')\n",
    "print('Number of features |', 'Features |', 'RSS')\n",
    "display([(i,features_list[i], round(RSS_list[i])) for i in range(1,5)])\n",
    "\n",
    "\n",
    "# ## Comparing models: AIC, BIC, Mallows'CP\n",
    "\n",
    "# In[231]:\n",
    "\n",
    "\n",
    "df1 = pd.concat([pd.DataFrame({'features':features_list}),pd.DataFrame({'RSS':RSS_list, 'R_squared': R_squared_list})], axis=1, join='inner')\n",
    "df1['numb_features'] = df1.index\n",
    "\n",
    "\n",
    "# ### Computing the C_p, AIC, BIC and R-square adjusted\n",
    "\n",
    "# In[232]:\n",
    "\n",
    "\n",
    "#Initializing useful variables\n",
    "m = len(Y)\n",
    "p = 11\n",
    "hat_sigma_squared = (1/(m - p -1)) * min(df1['RSS'])\n",
    "\n",
    "#Computing\n",
    "df1['C_p'] = (1/m) * (df1['RSS'] + 2 * df1['numb_features'] * hat_sigma_squared )\n",
    "df1['AIC'] = (1/(m*hat_sigma_squared)) * (df1['RSS'] + 2 * df1['numb_features'] * hat_sigma_squared )\n",
    "df1['BIC'] = (1/(m*hat_sigma_squared)) * (df1['RSS'] +  np.log(m) * df1['numb_features'] * hat_sigma_squared )\n",
    "df1['R_squared_adj'] = 1 - ( (1 - df1['R_squared'])*(m-1)/(m-df1['numb_features'] -1))\n",
    "df1\n",
    "\n",
    "\n",
    "# In[233]:\n",
    "\n",
    "\n",
    "df1['R_squared_adj'].idxmax()\n",
    "df1['R_squared_adj'].max()\n",
    "\n",
    "\n",
    "# ### Plotting the computed values as a function of number of features\n",
    "\n",
    "# In[234]:\n",
    "\n",
    "\n",
    "variables = ['C_p', 'AIC','BIC','R_squared_adj']\n",
    "fig = plt.figure(figsize = (18,6))\n",
    "\n",
    "for i,v in enumerate(variables):\n",
    "    ax = fig.add_subplot(1, 4, i+1)\n",
    "    ax.plot(df1['numb_features'],df1[v], color = 'lightblue')\n",
    "    ax.scatter(df1['numb_features'],df1[v], color = 'darkblue')\n",
    "    if v == 'R_squared_adj':\n",
    "        ax.plot(df1[v].idxmax(),df1[v].max(), marker = 'x', markersize = 20)\n",
    "    else:\n",
    "        ax.plot(df1[v].idxmin(),df1[v].min(), marker = 'x', markersize = 20)\n",
    "    ax.set_xlabel('Number of predictors')\n",
    "    ax.set_ylabel(v)\n",
    "\n",
    "fig.suptitle('Subset selection using C_p, AIC, BIC, Adjusted R2', fontsize = 16)\n",
    "plt.show()\n",
    "\n",
    "\n",
    "# # Ridge Regression\n",
    "\n",
    "# \n",
    "\n",
    "# ## Read the Hitters data\n",
    "# \n",
    "# Description\n",
    "# \n",
    "# Baseball Data\n",
    "# Description\n",
    "# \n",
    "# Major League Baseball Data from the 1986 and 1987 seasons.\n",
    "# Usage\n",
    "# \n",
    "# Hitters\n",
    "# \n",
    "# Format\n",
    "# \n",
    "# A data frame with 322 observations of major league players on the following 20 variables.\n",
    "# \n",
    "# AtBat\n",
    "# \n",
    "#     Number of times at bat in 1986\n",
    "# Hits\n",
    "# \n",
    "#     Number of hits in 1986\n",
    "# HmRun\n",
    "# \n",
    "#     Number of home runs in 1986\n",
    "# Runs\n",
    "# \n",
    "#     Number of runs in 1986\n",
    "# RBI\n",
    "# \n",
    "#     Number of runs batted in in 1986\n",
    "# Walks\n",
    "# \n",
    "#     Number of walks in 1986\n",
    "# Years\n",
    "# \n",
    "#     Number of years in the major leagues\n",
    "# CAtBat\n",
    "# \n",
    "#     Number of times at bat during his career\n",
    "# CHits\n",
    "# \n",
    "#     Number of hits during his career\n",
    "# CHmRun\n",
    "# \n",
    "#     Number of home runs during his career\n",
    "# CRuns\n",
    "# \n",
    "#     Number of runs during his career\n",
    "# CRBI\n",
    "# \n",
    "#     Number of runs batted in during his career\n",
    "# CWalks\n",
    "# \n",
    "#     Number of walks during his career\n",
    "# League\n",
    "# \n",
    "#     A factor with levels A and N indicating player's league at the end of 1986\n",
    "# Division\n",
    "# \n",
    "#     A factor with levels E and W indicating player's division at the end of 1986\n",
    "# PutOuts\n",
    "# \n",
    "#     Number of put outs in 1986\n",
    "# Assists\n",
    "# \n",
    "#     Number of assists in 1986\n",
    "# Errors\n",
    "# \n",
    "#     Number of errors in 1986\n",
    "# Salary\n",
    "# \n",
    "#     1987 annual salary on opening day in thousands of dollars\n",
    "# NewLeague\n",
    "# \n",
    "#     A factor with levels A and N indicating player's league at the beginning of 1987\n",
    "# \n",
    "# Source\n",
    "# \n",
    "# This dataset was taken from the StatLib library which is maintained at Carnegie Mellon University. This is part of the data that was used in the 1988 ASA Graphics Section Poster Session. The salary data were originally from Sports Illustrated, April 20, 1987. The 1986 and career statistics were obtained from The 1987 Baseball Encyclopedia Update published by Collier Books, Macmillan Publishing Company, New York. \n",
    "# \n",
    "\n",
    "# In[ ]:\n",
    "\n",
    "\n",
    "hitters = pd.read_csv('Hitters.csv', index_col=0).dropna()\n",
    "hitters.index.name = 'Player'\n",
    "hitters.info()\n",
    "\n",
    "\n",
    "# In[235]:\n",
    "\n",
    "\n",
    "hitters.head()\n",
    "\n",
    "\n",
    "# In[236]:\n",
    "\n",
    "\n",
    "dummies = pd.get_dummies(hitters[['League', 'Division', 'NewLeague']])\n",
    "dummies.info()\n",
    "print(dummies.head())\n",
    "\n",
    "\n",
    "# #### Define X and y matrices:\n",
    "#     Drop the column with the independent variable (Salary), and qualitative columns \n",
    "# \n",
    "\n",
    "# In[6]:\n",
    "\n",
    "\n",
    "y = hitters.Salary\n",
    "X_ = hitters.drop(['Salary', 'League', 'Division', 'NewLeague'], axis=1).astype('float64')\n",
    "# Define the feature set X.\n",
    "X = pd.concat([X_, dummies[['League_N', 'Division_W', 'NewLeague_N']]], axis=1)\n",
    "X.info()\n",
    "\n",
    "\n",
    "# X.head(5)\n",
    "\n",
    "# ### Read training and Test data\n",
    "\n",
    "# ### SKIP THIS\n",
    "# X_train = pd.read_csv('Hitters_X_train.csv', index_col=0)\n",
    "# y_train = pd.read_csv('Hitters_y_train.csv', index_col=0)\n",
    "# X_test = pd.read_csv('Hitters_X_test.csv', index_col=0)\n",
    "# y_test = pd.read_csv('Hitters_y_test.csv', index_col=0)\n",
    "\n",
    "# #### Generate Alphas to use in Ridge Regression\n",
    "#     \n",
    "\n",
    "# In[239]:\n",
    "\n",
    "\n",
    "alphas = 10**np.linspace(10,-2,100)*0.5 # np.linspace(1000,-1000,100)\n",
    "alphas\n",
    "\n",
    "\n",
    "# In[240]:\n",
    "\n",
    "\n",
    "ridge = Ridge(normalize = True)\n",
    "coefs = []\n",
    "\n",
    "for a in alphas:\n",
    "    ridge.set_params(alpha = a)\n",
    "    ridge.fit(X, y)\n",
    "    coefs.append(ridge.coef_)\n",
    "    \n",
    "np.shape(coefs)\n",
    "\n",
    "\n",
    "# Output above means that there is a 19x100 matrix, 100 models each with 19 predictors\n",
    "\n",
    "# Let's cerate the plot for when features come into the model\n",
    "\n",
    "# In[241]:\n",
    "\n",
    "\n",
    "ax = plt.gca()\n",
    "ax.plot(alphas, coefs)\n",
    "ax.set_xscale('log')\n",
    "plt.axis('tight')\n",
    "plt.xlabel('alpha')\n",
    "plt.ylabel('weights')\n",
    "\n",
    "\n",
    "# #### Split data into training and test sets \n",
    "# Use train_test_split from sklearn\n",
    "# \n",
    "\n",
    "# In[242]:\n",
    "\n",
    "\n",
    "from sklearn.model_selection import train_test_split\n",
    "\n",
    "X_train, X_test , y_train, y_test = train_test_split(X, y, test_size=0.5, random_state=1)\n",
    "\n",
    "\n",
    "# # Let's use alpha=10, then fit  ridge regression on the training data to predict test MSE\n",
    "\n",
    "# In[244]:\n",
    "\n",
    "\n",
    "ridge2 = Ridge(alpha = 5, normalize = True) \n",
    "ridge2.fit(X_train, y_train)            \n",
    "pred2 = ridge2.predict(X_test)           # Use this model to predict the test data\n",
    "print(pd.Series(ridge2.coef_, index = X.columns)) # Print coefficients\n",
    "print(mean_squared_error(y_test, pred2))          # Calculate the test MSE\n",
    "\n",
    "\n",
    "# #### MSE_test=121263.26 for alpha = 10 \n",
    "# Now let's see for alpha= $10^{5}$, look for shrinkage hence more biased:\n",
    "\n",
    "# In[248]:\n",
    "\n",
    "\n",
    "ridge3 = Ridge(alpha = 10**5, normalize = True)\n",
    "ridge3.fit(X_train, y_train)             \n",
    "pred3 = ridge3.predict(X_test)           \n",
    "print(pd.Series(ridge3.coef_, index = X.columns)) \n",
    "print(mean_squared_error(y_test, pred3))          \n",
    "\n",
    "\n",
    "# Above number indicates a big shrinkage, very small coefficients. \n",
    "# ##### Q: Is the model more or or less biased in this case?\n",
    "# Compare this result to alpha=10 MSE\n",
    "# ### Remember OLS estimate is alpha=0\n",
    "\n",
    "# In[246]:\n",
    "\n",
    "\n",
    "ridge2 = Ridge(alpha = 0, normalize = True)\n",
    "ridge2.fit(X_train, y_train)             # Fit a ridge regression on the training data\n",
    "pred = ridge2.predict(X_test)            # Use this model to predict the test data\n",
    "print(pd.Series(ridge2.coef_, index = X.columns)) # Print coefficients\n",
    "print(mean_squared_error(y_test, pred))           # Calculate the test MSE\n",
    "\n",
    "\n",
    "# Is this an improvement over alpha=10 value?\n",
    "# If not reduce the alpha.\n",
    "\n",
    "# ### Let's use cross-validation to choose the tuning parameter alpha. \n",
    "# RidgeCV() is the cross-validated ridge regression function. For the value of alpha from running this, we can check the test MSE\n",
    "\n",
    "# In[247]:\n",
    "\n",
    "\n",
    "ridgecv = RidgeCV(alphas = alphas, scoring = 'neg_mean_squared_error', normalize = True)\n",
    "ridgecv.fit(X_train, y_train)\n",
    "ridgecv.alpha_\n",
    "\n",
    "\n",
    "# Once we have the value of alpha, we can calculate new test MSE\n",
    "\n",
    "# In[249]:\n",
    "\n",
    "\n",
    "ridge4 = Ridge(alpha = ridgecv.alpha_, normalize = True)\n",
    "ridge4.fit(X_train, y_train)\n",
    "mean_squared_error(y_test, ridge4.predict(X_test))\n",
    "\n",
    "\n",
    "# ### Ridge Regression on full data set with the chosen alpha\n",
    "\n",
    "# In[250]:\n",
    "\n",
    "\n",
    "ridge4.fit(X, y)\n",
    "pd.Series(ridge4.coef_, index = X.columns)\n",
    "mean_squared_error(y, ridge4.predict(X))\n",
    "\n",
    "\n",
    "# In[251]:\n",
    "\n",
    "\n",
    "ridge4.coef_\n",
    "\n",
    "\n",
    "# ## The LASSO\n",
    "# Check to see if the lasso gives a better model (different norm space), i.e.,  a more accurate or a more interpretable model than ridge regression. \n",
    "# \n",
    "\n",
    "# In[158]:\n",
    "\n",
    "\n",
    "from sklearn.preprocessing import scale\n",
    "\n",
    "\n",
    "# In[252]:\n",
    "\n",
    "\n",
    "lasso = Lasso(max_iter = 10000, normalize = True) # can change the max iteration x10 or 100\n",
    "coefs = []\n",
    "\n",
    "for a in alphas:\n",
    "    lasso.set_params(alpha=a)\n",
    "    lasso.fit(scale(X_train), y_train)\n",
    "    coefs.append(lasso.coef_)\n",
    "    \n",
    "ax = plt.gca()\n",
    "ax.plot(alphas*2, coefs)\n",
    "ax.set_xscale('log')\n",
    "plt.axis('tight')\n",
    "plt.xlabel('alpha')\n",
    "plt.ylabel('weights')\n",
    "\n",
    "\n",
    "# Q: What's the above graph telling us?  \n",
    "#     A:some coefficients are zero\n",
    "# Now let's look at MSE_test to see if it is any better!\n",
    "\n",
    "# In[253]:\n",
    "\n",
    "\n",
    "lassocv = LassoCV(alphas = None, cv = 10, max_iter = 100000, normalize = True)\n",
    "lassocv.fit(X_train, y_train)\n",
    "\n",
    "lasso.set_params(alpha=lassocv.alpha_)\n",
    "lasso.fit(X_train, y_train)\n",
    "mean_squared_error(y_test, lasso.predict(X_test))\n",
    "\n",
    "\n",
    "# Q: Would you use the Lasso in this case?\n",
    "#     A: Much smaller number of features\n",
    "\n",
    "# In[254]:\n",
    "\n",
    "\n",
    "pd.Series(lasso.coef_, index=X.columns)\n",
    "\n",
    "\n",
    "# ## Principal Components \n",
    "# Use sklearn module and PCA() function, primarily. \n",
    "# To continue from above we will use PCA to predict Salary. \n",
    "\n",
    "# check to see if there are any missing values in the data\n",
    "\n",
    "# In[13]:\n",
    "\n",
    "\n",
    "from sklearn.decomposition import PCA\n",
    "from sklearn.preprocessing import scale\n",
    "\n",
    "hitters = pd.read_csv('Hitters.csv', index_col=0).dropna()\n",
    "hitters.index.name = 'Player'\n",
    "dummies = pd.get_dummies(hitters[['League', 'Division', 'NewLeague']])\n",
    "#dummies.info()\n",
    "\n",
    "y = hitters.Salary\n",
    "X_ = hitters.drop(['Salary', 'League', 'Division', 'NewLeague'], axis=1).astype('float64')\n",
    "# Define the feature set X.\n",
    "\n",
    "\n",
    "X = pd.concat([X_, dummies[['League_N', 'Division_W', 'NewLeague_N']]], axis=1)\n",
    "X.info()\n",
    "\n",
    "\n",
    "# In[26]:\n",
    "\n",
    "\n",
    "pca = PCA()\n",
    "X_reduced = pca.fit_transform(scale(X))\n",
    "\n",
    "\n",
    "# In[35]:\n",
    "\n",
    "\n",
    "#Principal Components\n",
    "pd.DataFrame(pca.components_.T).loc[:,:]\n",
    "\n",
    "\n",
    "# print(X_reduced.shape)\n",
    "# pd.DataFrame(X_reduced).loc[:4,:]\n",
    "\n",
    "# 10-fold cross-validation to see how it influences the MSE:\n",
    "# \n",
    "\n",
    "# In[40]:\n",
    "\n",
    "\n",
    "from sklearn import model_selection\n",
    "n = len(X_reduced)\n",
    "kf_10 = model_selection.KFold( n_splits=10, shuffle=True, random_state=1)\n",
    "\n",
    "regr = LinearRegression()\n",
    "mse = []\n",
    "\n",
    "# Calculate MSE with only the intercept (no principal components in regression)\n",
    "score = -1*model_selection.cross_val_score(regr, np.ones((n,1)), y.ravel(), cv=kf_10, scoring='neg_mean_squared_error').mean()    \n",
    "mse.append(score)\n",
    "\n",
    "# Calculate MSE using CV for the 19 principle components, adding one component at the time.\n",
    "for i in np.arange(1, 20):\n",
    "    score = -1*model_selection.cross_val_score(regr, X_reduced[:,:i], y.ravel(), cv=kf_10, scoring='neg_mean_squared_error').mean()\n",
    "    mse.append(score)\n",
    "    \n",
    "# Plot results    \n",
    "plt.plot(mse, '-v')\n",
    "plt.xlabel('Number of principal components in regression')\n",
    "plt.ylabel('MSE')\n",
    "plt.title('Salary')\n",
    "plt.xlim(xmin=-1);\n",
    "\n",
    "\n",
    "# We see that the smallest cross-validation error occurs when M=18 components are used. This is barely fewer than M=19\n",
    "# \n",
    "# , which amounts to simply performing least squares, because when all of the components are used in PCR no dimension reduction occurs. However, from the plot we also see that the cross-validation error is roughly the same when only one component is included in the model. This suggests that a model that uses just a small number of components might suffice.\n",
    "# \n",
    "# We'll do a little math to get the amount of variance explained by adding each consecutive principal component:\n",
    "# \n",
    "\n",
    "# ### Variances explained by PCA\n",
    "\n",
    "# In[41]:\n",
    "\n",
    "\n",
    "np.cumsum(np.round(pca.explained_variance_ratio_, decimals=4)*100)\n",
    "\n",
    "\n",
    "# setting M=1 explains 38.31% of the variation, in response, M=10 does 97.25\n",
    "# \n",
    "# \n",
    "# ## PCA on the training data:\n",
    "\n",
    "# In[42]:\n",
    "\n",
    "\n",
    "pca2 = PCA()\n",
    "\n",
    "# Scale the data\n",
    "X_reduced_train = pca2.fit_transform(scale(X_train))\n",
    "n = len(X_reduced_train)\n",
    "\n",
    "# 10-fold CV, with shuffle\n",
    "kf_10 = model_selection.KFold( n_splits=10, shuffle=True, random_state=1)\n",
    "\n",
    "mse = []\n",
    "\n",
    "# Calculate MSE with only the intercept (no principal components in regression)\n",
    "score = -1*model_selection.cross_val_score(regr, np.ones((n,1)), y_train.ravel(), cv=kf_10, scoring='neg_mean_squared_error').mean()    \n",
    "mse.append(score)\n",
    "\n",
    "# Calculate MSE using CV for the 19 principle components, adding one component at the time.\n",
    "for i in np.arange(1, 20):\n",
    "    score = -1*model_selection.cross_val_score(regr, X_reduced_train[:,:i], y_train.ravel(), cv=kf_10, scoring='neg_mean_squared_error').mean()\n",
    "    mse.append(score)\n",
    "\n",
    "plt.plot(np.array(mse), '-v')\n",
    "plt.xlabel('Number of principal components in regression')\n",
    "plt.ylabel('MSE')\n",
    "plt.title('Salary')\n",
    "plt.xlim(xmin=-1);\n",
    "\n",
    "\n",
    "# In[ ]:\n",
    "\n",
    "\n",
    "lowest MSE_CV when M=6 components are used\n",
    "\n",
    "\n",
    "# ### MSE_test CV\n",
    "\n",
    "# In[49]:\n",
    "\n",
    "\n",
    "X_reduced_test = pca2.transform(scale(X_test))[:,:7]\n",
    "\n",
    "# Train regression model on training data \n",
    "regr = LinearRegression()\n",
    "regr.fit(X_reduced_train[:,:7], y_train)\n",
    "\n",
    "# Prediction with test data\n",
    "pred = regr.predict(X_reduced_test)\n",
    "mean_squared_error(y_test, pred)\n",
    "\n",
    "\n",
    "# How does this MSE compare to The ridge and lasso? Is the final model easier to interpret (no variable selection)?\n",
    "\n",
    "# In[259]:\n",
    "\n",
    "\n",
    "regr_test = LinearRegression()\n",
    "regr_test.fit(X_reduced, y)\n",
    "regr_test.coef_\n",
    "\n",
    "\n",
    "# In[45]:\n",
    "\n",
    "\n",
    "\n",
    "\n",
    "6.7.2 Partial Least Squares\n",
    "\n",
    "Scikit-learn PLSRegression gives same results as the pls package in R when using method='oscorespls'. However, the standard method used is 'kernelpls', which we'll use here. Feel free to try out both.\n",
    "\n",
    "\n",
    "# In[50]:\n",
    "\n",
    "\n",
    "\n",
    "from sklearn.cross_decomposition import PLSRegression, PLSSVD\n",
    "n = len(X_train)\n",
    "\n",
    "# 10-fold CV, with shuffle\n",
    "kf_10 = model_selection.KFold(n_splits=10, shuffle=True, random_state=1)\n",
    "\n",
    "mse = []\n",
    "\n",
    "for i in np.arange(1, 20):\n",
    "    pls = PLSRegression(n_components=i)\n",
    "    score = model_selection.cross_val_score(pls, scale(X_train), y_train, cv=kf_10, scoring='neg_mean_squared_error').mean()\n",
    "    mse.append(-score)\n",
    "\n",
    "# Plot results\n",
    "plt.plot(np.arange(1, 20), np.array(mse), '-v')\n",
    "plt.xlabel('Number of principal components in regression')\n",
    "plt.ylabel('MSE')\n",
    "plt.title('Salary')\n",
    "plt.xlim(xmin=-1)\n",
    "\n",
    "\n",
    "# The lowest cross-validation error occurs when only M=2 partial least squares dimensions are used. We now evaluate the corresponding test set MSE:\n",
    "\n",
    "# In[51]:\n",
    "\n",
    "\n",
    "pls = PLSRegression(n_components=2)\n",
    "pls.fit(scale(X_train), y_train)\n",
    "\n",
    "mean_squared_error(y_test, pls.predict(scale(X_test)))\n",
    "\n",
    "\n",
    "# The test MSE is again comparable to the test MSE obtained using ridge regression, the lasso, and PCR.\n",
    "\n",
    "# ## Partial Least Squares\n",
    "# \n",
    "# \n",
    "\n",
    "# In[52]:\n",
    "\n",
    "\n",
    "n = len(X_train)\n",
    "\n",
    "# 10-fold CV, with shuffle\n",
    "kf_10 = model_selection.KFold(n_splits=10, shuffle=True, random_state=1)\n",
    "\n",
    "mse = []\n",
    "\n",
    "for i in np.arange(1, 20):\n",
    "    pls = PLSRegression(n_components=i)\n",
    "    score = model_selection.cross_val_score(pls, scale(X_train), y_train, cv=kf_10, scoring='neg_mean_squared_error').mean()\n",
    "    mse.append(-score)\n",
    "\n",
    "# Plot results\n",
    "plt.plot(np.arange(1, 20), np.array(mse), '-v')\n",
    "plt.xlabel('Number of principal components in regression')\n",
    "plt.ylabel('MSE')\n",
    "plt.title('Salary')\n",
    "plt.xlim(xmin=-1)\n",
    "\n",
    "\n",
    "# The lowest cross-validation error occurs when only M=2 partial least squares dimensions are used. We now evaluate the corresponding test set MSE:\n",
    "\n",
    "# In[53]:\n",
    "\n",
    "\n",
    "pls = PLSRegression(n_components=2)\n",
    "pls.fit(scale(X_train), y_train)\n",
    "\n",
    "mean_squared_error(y_test, pls.predict(scale(X_test)))\n",
    "\n",
    "\n",
    "# The test MSE is again comparable to the test MSE obtained using ridge regression, the lasso, and PCR.\n"
   ]
  },
  {
   "cell_type": "markdown",
   "metadata": {},
   "source": [
    "# #6.8"
   ]
  },
  {
   "cell_type": "markdown",
   "metadata": {},
   "source": [
    "## (a)"
   ]
  },
  {
   "cell_type": "code",
   "execution_count": 255,
   "metadata": {},
   "outputs": [],
   "source": [
    "#random normal\n",
    "x = np.random.normal(56, 6.4, 100)\n",
    "e = np.random.normal(0, 3.2, 100)"
   ]
  },
  {
   "cell_type": "markdown",
   "metadata": {},
   "source": [
    "## (b)"
   ]
  },
  {
   "cell_type": "code",
   "execution_count": 256,
   "metadata": {},
   "outputs": [],
   "source": [
    "Y = 0.3 + 0.2*x - 0.88*x**2 + 0.43*x**3 + e"
   ]
  },
  {
   "cell_type": "markdown",
   "metadata": {},
   "source": [
    "## (c)"
   ]
  },
  {
   "cell_type": "code",
   "execution_count": 257,
   "metadata": {},
   "outputs": [],
   "source": [
    "# merge X and Y as a dataframe\n",
    "X = pd.DataFrame(x, columns=list('X'))\n",
    "y = pd.DataFrame(Y, columns=list('y'))\n",
    "y = y.y\n",
    "\n",
    "#Use X, X^2, ..., X^10 as predictors\n",
    "X['X2'] = X['X']**2\n",
    "X['X3'] = X['X']**3\n",
    "X['X4'] = X['X']**4\n",
    "X['X5'] = X['X']**5\n",
    "X['X6'] = X['X']**6\n",
    "X['X7'] = X['X']**7\n",
    "X['X8'] = X['X']**8\n",
    "X['X9'] = X['X']**9\n",
    "X['X10'] = X['X']**10"
   ]
  },
  {
   "cell_type": "code",
   "execution_count": 258,
   "metadata": {},
   "outputs": [],
   "source": [
    "def processSubset(feature_set):\n",
    "    # Fit model on feature_set and calculate RSS\n",
    "    model = sm.OLS(y,X[list(feature_set)])\n",
    "    regr = model.fit()\n",
    "    RSS = ((regr.predict(X[list(feature_set)]) - y) ** 2).sum()\n",
    "    return {\"model\":regr, \"RSS\":RSS}\n",
    "\n",
    "def regsubsets(k):\n",
    "    \n",
    "    tic = time.time()\n",
    "    \n",
    "    results = []\n",
    "    \n",
    "    for combo in itertools.combinations(X.columns, k):\n",
    "        results.append(processSubset(combo))\n",
    "    \n",
    "    # Wrap everything up in a nice dataframe\n",
    "    models = pd.DataFrame(results)\n",
    "    \n",
    "    # Choose the model with the highest RSS\n",
    "    best_model = models.loc[models['RSS'].argmin()]\n",
    "    \n",
    "    toc = time.time()\n",
    "    print(\"Processed\", models.shape[0], \"models on\", k, \"predictors in\", (toc-tic), \"seconds.\")\n",
    "    \n",
    "    # Return the best model, along with some other useful information about the model\n",
    "    return best_model"
   ]
  },
  {
   "cell_type": "code",
   "execution_count": 259,
   "metadata": {},
   "outputs": [
    {
     "name": "stdout",
     "output_type": "stream",
     "text": [
      "Processed 10 models on 1 predictors in 0.03582501411437988 seconds.\n",
      "Processed 45 models on 2 predictors in 0.12461686134338379 seconds.\n",
      "Processed 120 models on 3 predictors in 0.27191781997680664 seconds.\n",
      "Processed 210 models on 4 predictors in 0.431851863861084 seconds.\n",
      "Processed 252 models on 5 predictors in 0.5514779090881348 seconds.\n",
      "Processed 210 models on 6 predictors in 0.44208383560180664 seconds.\n",
      "Processed 120 models on 7 predictors in 0.2571079730987549 seconds.\n",
      "Total elapsed time: 2.137752056121826 seconds.\n"
     ]
    }
   ],
   "source": [
    "models_best = pd.DataFrame(columns=[\"RSS\", \"model\"])\n",
    "\n",
    "tic = time.time()\n",
    "for i in range(1,8):\n",
    "    models_best.loc[i] = regsubsets(i)\n",
    "\n",
    "toc = time.time()\n",
    "print(\"Total elapsed time:\", (toc-tic), \"seconds.\")\n",
    "\n",
    "warnings.filterwarnings('ignore') #hide warnings"
   ]
  },
  {
   "cell_type": "code",
   "execution_count": 260,
   "metadata": {},
   "outputs": [
    {
     "data": {
      "text/html": [
       "<div>\n",
       "<style scoped>\n",
       "    .dataframe tbody tr th:only-of-type {\n",
       "        vertical-align: middle;\n",
       "    }\n",
       "\n",
       "    .dataframe tbody tr th {\n",
       "        vertical-align: top;\n",
       "    }\n",
       "\n",
       "    .dataframe thead th {\n",
       "        text-align: right;\n",
       "    }\n",
       "</style>\n",
       "<table border=\"1\" class=\"dataframe\">\n",
       "  <thead>\n",
       "    <tr style=\"text-align: right;\">\n",
       "      <th></th>\n",
       "      <th>RSS</th>\n",
       "      <th>model</th>\n",
       "    </tr>\n",
       "  </thead>\n",
       "  <tbody>\n",
       "    <tr>\n",
       "      <td>1</td>\n",
       "      <td>1.221574e+07</td>\n",
       "      <td>&lt;statsmodels.regression.linear_model.Regressio...</td>\n",
       "    </tr>\n",
       "    <tr>\n",
       "      <td>2</td>\n",
       "      <td>7.813299e+02</td>\n",
       "      <td>&lt;statsmodels.regression.linear_model.Regressio...</td>\n",
       "    </tr>\n",
       "    <tr>\n",
       "      <td>3</td>\n",
       "      <td>7.506626e+02</td>\n",
       "      <td>&lt;statsmodels.regression.linear_model.Regressio...</td>\n",
       "    </tr>\n",
       "    <tr>\n",
       "      <td>4</td>\n",
       "      <td>7.506327e+02</td>\n",
       "      <td>&lt;statsmodels.regression.linear_model.Regressio...</td>\n",
       "    </tr>\n",
       "    <tr>\n",
       "      <td>5</td>\n",
       "      <td>7.004899e+02</td>\n",
       "      <td>&lt;statsmodels.regression.linear_model.Regressio...</td>\n",
       "    </tr>\n",
       "    <tr>\n",
       "      <td>6</td>\n",
       "      <td>7.004317e+02</td>\n",
       "      <td>&lt;statsmodels.regression.linear_model.Regressio...</td>\n",
       "    </tr>\n",
       "    <tr>\n",
       "      <td>7</td>\n",
       "      <td>7.015207e+02</td>\n",
       "      <td>&lt;statsmodels.regression.linear_model.Regressio...</td>\n",
       "    </tr>\n",
       "  </tbody>\n",
       "</table>\n",
       "</div>"
      ],
      "text/plain": [
       "            RSS                                              model\n",
       "1  1.221574e+07  <statsmodels.regression.linear_model.Regressio...\n",
       "2  7.813299e+02  <statsmodels.regression.linear_model.Regressio...\n",
       "3  7.506626e+02  <statsmodels.regression.linear_model.Regressio...\n",
       "4  7.506327e+02  <statsmodels.regression.linear_model.Regressio...\n",
       "5  7.004899e+02  <statsmodels.regression.linear_model.Regressio...\n",
       "6  7.004317e+02  <statsmodels.regression.linear_model.Regressio...\n",
       "7  7.015207e+02  <statsmodels.regression.linear_model.Regressio..."
      ]
     },
     "execution_count": 260,
     "metadata": {},
     "output_type": "execute_result"
    }
   ],
   "source": [
    "models_best"
   ]
  },
  {
   "cell_type": "markdown",
   "metadata": {},
   "source": [
    "## (d)"
   ]
  },
  {
   "cell_type": "code",
   "execution_count": 261,
   "metadata": {},
   "outputs": [],
   "source": [
    "#Forward Selection\n",
    "def forward(predictors):\n",
    "\n",
    "    # Pull out predictors we still need to process\n",
    "    remaining_predictors = [p for p in X.columns if p not in predictors]\n",
    "    \n",
    "    tic = time.time()\n",
    "    \n",
    "    results = []\n",
    "    \n",
    "    for p in remaining_predictors:\n",
    "        results.append(processSubset(predictors+[p]))\n",
    "    \n",
    "    # Wrap everything up in a nice dataframe\n",
    "    models = pd.DataFrame(results)\n",
    "    \n",
    "    # Choose the model with the highest RSS\n",
    "    best_model = models.loc[models['RSS'].argmin()]\n",
    "    \n",
    "    toc = time.time()\n",
    "    print(\"Processed \", models.shape[0], \"models on\", len(predictors)+1, \"predictors in\", (toc-tic), \"seconds.\")\n",
    "    \n",
    "    # Return the best model, along with some other useful information about the model\n",
    "    return best_model"
   ]
  },
  {
   "cell_type": "code",
   "execution_count": 262,
   "metadata": {},
   "outputs": [
    {
     "name": "stdout",
     "output_type": "stream",
     "text": [
      "Processed  10 models on 1 predictors in 0.037576913833618164 seconds.\n",
      "Processed  9 models on 2 predictors in 0.050366878509521484 seconds.\n",
      "Processed  8 models on 3 predictors in 0.024449586868286133 seconds.\n",
      "Processed  7 models on 4 predictors in 0.020205020904541016 seconds.\n",
      "Processed  6 models on 5 predictors in 0.014930009841918945 seconds.\n",
      "Processed  5 models on 6 predictors in 0.016577959060668945 seconds.\n",
      "Processed  4 models on 7 predictors in 0.013983011245727539 seconds.\n",
      "Processed  3 models on 8 predictors in 0.008111715316772461 seconds.\n",
      "Processed  2 models on 9 predictors in 0.005714893341064453 seconds.\n",
      "Processed  1 models on 10 predictors in 0.0034058094024658203 seconds.\n",
      "Total elapsed time: 0.22117376327514648 seconds.\n"
     ]
    }
   ],
   "source": [
    "models_fwd = pd.DataFrame(columns=[\"RSS\", \"model\"])\n",
    "\n",
    "tic = time.time()\n",
    "predictors = []\n",
    "\n",
    "for i in range(1,len(X.columns)+1):    \n",
    "    models_fwd.loc[i] = forward(predictors)\n",
    "    predictors = models_fwd.loc[i][\"model\"].model.exog_names\n",
    "\n",
    "toc = time.time()\n",
    "print(\"Total elapsed time:\", (toc-tic), \"seconds.\")"
   ]
  },
  {
   "cell_type": "code",
   "execution_count": 263,
   "metadata": {},
   "outputs": [],
   "source": [
    "#Backward Selection\n",
    "def backward(predictors):\n",
    "    \n",
    "    tic = time.time()\n",
    "    \n",
    "    results = []\n",
    "    \n",
    "    for combo in itertools.combinations(predictors, len(predictors)-1):\n",
    "        results.append(processSubset(combo))\n",
    "    \n",
    "    # Wrap everything up in a nice dataframe\n",
    "    models = pd.DataFrame(results)\n",
    "    \n",
    "    # Choose the model with the highest RSS\n",
    "    best_model = models.loc[models['RSS'].argmin()]\n",
    "    \n",
    "    toc = time.time()\n",
    "    print(\"Processed \", models.shape[0], \"models on\", len(predictors)-1, \"predictors in\", (toc-tic), \"seconds.\")\n",
    "    \n",
    "    # Return the best model, along with some other useful information about the model\n",
    "    return best_model"
   ]
  },
  {
   "cell_type": "code",
   "execution_count": 264,
   "metadata": {},
   "outputs": [
    {
     "name": "stdout",
     "output_type": "stream",
     "text": [
      "Processed  10 models on 9 predictors in 0.03862309455871582 seconds.\n",
      "Processed  9 models on 8 predictors in 0.04897618293762207 seconds.\n",
      "Processed  8 models on 7 predictors in 0.030596017837524414 seconds.\n",
      "Processed  7 models on 6 predictors in 0.017754316329956055 seconds.\n",
      "Processed  6 models on 5 predictors in 0.015459060668945312 seconds.\n",
      "Processed  5 models on 4 predictors in 0.014005899429321289 seconds.\n",
      "Processed  4 models on 3 predictors in 0.010936975479125977 seconds.\n",
      "Processed  3 models on 2 predictors in 0.009359121322631836 seconds.\n",
      "Processed  2 models on 1 predictors in 0.004942178726196289 seconds.\n",
      "Total elapsed time: 0.199937105178833 seconds.\n"
     ]
    }
   ],
   "source": [
    "models_bwd = pd.DataFrame(columns=[\"RSS\", \"model\"], index = range(1,len(X.columns)))\n",
    "\n",
    "tic = time.time()\n",
    "predictors = X.columns\n",
    "\n",
    "while(len(predictors) > 1):  \n",
    "    models_bwd.loc[len(predictors)-1] = backward(predictors)\n",
    "    predictors = models_bwd.loc[len(predictors)-1][\"model\"].model.exog_names\n",
    "\n",
    "toc = time.time()\n",
    "print(\"Total elapsed time:\", (toc-tic), \"seconds.\")"
   ]
  },
  {
   "cell_type": "code",
   "execution_count": 265,
   "metadata": {},
   "outputs": [
    {
     "name": "stdout",
     "output_type": "stream",
     "text": [
      "------------\n",
      "Best Subset:\n",
      "------------\n",
      "X    -3.344818e-01\n",
      "X2   -3.088202e+00\n",
      "X3    6.302071e-01\n",
      "X4   -7.117202e-03\n",
      "X5    1.249109e-04\n",
      "X6   -1.084410e-06\n",
      "X7    3.729038e-09\n",
      "dtype: float64\n",
      "-----------------\n",
      "Foward Selection:\n",
      "-----------------\n",
      "X3    5.079484e-01\n",
      "X2   -1.946931e+00\n",
      "X7   -7.343843e-09\n",
      "X6    5.327992e-07\n",
      "X8    3.133630e-11\n",
      "X4   -1.738953e-03\n",
      "X    -1.846055e-01\n",
      "dtype: float64\n",
      "-------------------\n",
      "Backward Selection:\n",
      "-------------------\n",
      "X    -3.344818e-01\n",
      "X2   -3.088202e+00\n",
      "X3    6.302071e-01\n",
      "X4   -7.117202e-03\n",
      "X5    1.249109e-04\n",
      "X6   -1.084410e-06\n",
      "X7    3.729038e-09\n",
      "dtype: float64\n"
     ]
    }
   ],
   "source": [
    "print(\"------------\")\n",
    "print(\"Best Subset:\")\n",
    "print(\"------------\")\n",
    "print(models_best.loc[7, \"model\"].params)\n",
    "print(\"-----------------\")\n",
    "print(\"Foward Selection:\")\n",
    "print(\"-----------------\")\n",
    "print(models_fwd.loc[7, \"model\"].params)\n",
    "print(\"-------------------\")\n",
    "print(\"Backward Selection:\")\n",
    "print(\"-------------------\")\n",
    "print(models_bwd.loc[7, \"model\"].params)"
   ]
  },
  {
   "cell_type": "markdown",
   "metadata": {},
   "source": [
    "## (e)"
   ]
  },
  {
   "cell_type": "code",
   "execution_count": 266,
   "metadata": {},
   "outputs": [
    {
     "data": {
      "text/plain": [
       "0.9999923012075264"
      ]
     },
     "execution_count": 266,
     "metadata": {},
     "output_type": "execute_result"
    }
   ],
   "source": [
    "#Lasso Regression\n",
    "model_lasso = LassoCV(alphas = [1, 0.1, 0.001, 0.0005],cv=10).fit(X, y)\n",
    "\n",
    "#accuracy\n",
    "lcv.score(X,y)"
   ]
  },
  {
   "cell_type": "code",
   "execution_count": 267,
   "metadata": {},
   "outputs": [
    {
     "name": "stdout",
     "output_type": "stream",
     "text": [
      "X9    -6.539662e-14\n",
      "X10   -1.583842e-15\n",
      "X8     1.706686e-13\n",
      "X7     4.788735e-10\n",
      "X6     7.754429e-08\n",
      "X5     9.477569e-06\n",
      "X4     1.036865e-03\n",
      "X3     1.090054e-01\n",
      "X2     1.183984e+01\n",
      "X      1.677650e+02\n",
      "dtype: float64\n"
     ]
    }
   ],
   "source": [
    "coef = pd.Series(model_lasso.coef_, index = X.columns)\n",
    "print(coef.sort_values())"
   ]
  },
  {
   "cell_type": "code",
   "execution_count": 268,
   "metadata": {},
   "outputs": [
    {
     "data": {
      "text/plain": [
       "Text(0.5, 1.0, 'Coefficients in the Lasso Model')"
      ]
     },
     "execution_count": 268,
     "metadata": {},
     "output_type": "execute_result"
    },
    {
     "data": {
      "image/png": "[encoded data removed]",
      "text/plain": [
       "<Figure size 576x720 with 1 Axes>"
      ]
     },
     "metadata": {
      "needs_background": "light"
     },
     "output_type": "display_data"
    }
   ],
   "source": [
    "imp_coef = pd.concat([coef.sort_values().head(10),\n",
    "                     coef.sort_values().tail(10)])\n",
    "plt.rcParams['figure.figsize'] = (8.0, 10.0)\n",
    "imp_coef.plot(kind = \"barh\")\n",
    "plt.title(\"Coefficients in the Lasso Model\")"
   ]
  },
  {
   "cell_type": "markdown",
   "metadata": {},
   "source": [
    "## (f)"
   ]
  },
  {
   "cell_type": "code",
   "execution_count": 279,
   "metadata": {},
   "outputs": [
    {
     "name": "stdout",
     "output_type": "stream",
     "text": [
      "LassoCV(alphas=[1, 0.1, 0.001, 0.0005], copy_X=True, cv=10, eps=0.001,\n",
      "        fit_intercept=True, max_iter=1000, n_alphas=100, n_jobs=None,\n",
      "        normalize=False, positive=False, precompute='auto', random_state=None,\n",
      "        selection='cyclic', tol=0.0001, verbose=False)\n"
     ]
    }
   ],
   "source": [
    "#Change response Y\n",
    "Y = 0.3 + 0.88*x**7 + e\n",
    "y = pd.DataFrame(Y, columns=list('y'))\n",
    "y = y.y\n",
    "\n",
    "\n",
    "#Lasso regression\n",
    "model_lasso = LassoCV(alphas = [1, 0.1, 0.001, 0.0005],cv=10).fit(X, y)\n",
    "\n",
    "print(model_lasso)"
   ]
  },
  {
   "cell_type": "code",
   "execution_count": 281,
   "metadata": {},
   "outputs": [
    {
     "name": "stdout",
     "output_type": "stream",
     "text": [
      "Processed 10 models on 1 predictors in 0.03441429138183594 seconds.\n",
      "Processed 45 models on 2 predictors in 0.12182497978210449 seconds.\n",
      "Processed 120 models on 3 predictors in 0.27187609672546387 seconds.\n",
      "Processed 210 models on 4 predictors in 0.4809279441833496 seconds.\n",
      "Processed 252 models on 5 predictors in 0.5653982162475586 seconds.\n",
      "Processed 210 models on 6 predictors in 0.45142197608947754 seconds.\n",
      "Processed 120 models on 7 predictors in 0.26282382011413574 seconds.\n",
      "Total elapsed time: 2.2143051624298096 seconds.\n"
     ]
    },
    {
     "data": {
      "text/html": [
       "<div>\n",
       "<style scoped>\n",
       "    .dataframe tbody tr th:only-of-type {\n",
       "        vertical-align: middle;\n",
       "    }\n",
       "\n",
       "    .dataframe tbody tr th {\n",
       "        vertical-align: top;\n",
       "    }\n",
       "\n",
       "    .dataframe thead th {\n",
       "        text-align: right;\n",
       "    }\n",
       "</style>\n",
       "<table border=\"1\" class=\"dataframe\">\n",
       "  <thead>\n",
       "    <tr style=\"text-align: right;\">\n",
       "      <th></th>\n",
       "      <th>RSS</th>\n",
       "      <th>model</th>\n",
       "    </tr>\n",
       "  </thead>\n",
       "  <tbody>\n",
       "    <tr>\n",
       "      <td>1</td>\n",
       "      <td>767.064707</td>\n",
       "      <td>&lt;statsmodels.regression.linear_model.Regressio...</td>\n",
       "    </tr>\n",
       "    <tr>\n",
       "      <td>2</td>\n",
       "      <td>761.243972</td>\n",
       "      <td>&lt;statsmodels.regression.linear_model.Regressio...</td>\n",
       "    </tr>\n",
       "    <tr>\n",
       "      <td>3</td>\n",
       "      <td>750.212961</td>\n",
       "      <td>&lt;statsmodels.regression.linear_model.Regressio...</td>\n",
       "    </tr>\n",
       "    <tr>\n",
       "      <td>4</td>\n",
       "      <td>749.879708</td>\n",
       "      <td>&lt;statsmodels.regression.linear_model.Regressio...</td>\n",
       "    </tr>\n",
       "    <tr>\n",
       "      <td>5</td>\n",
       "      <td>740.414794</td>\n",
       "      <td>&lt;statsmodels.regression.linear_model.Regressio...</td>\n",
       "    </tr>\n",
       "    <tr>\n",
       "      <td>6</td>\n",
       "      <td>736.277321</td>\n",
       "      <td>&lt;statsmodels.regression.linear_model.Regressio...</td>\n",
       "    </tr>\n",
       "    <tr>\n",
       "      <td>7</td>\n",
       "      <td>736.285923</td>\n",
       "      <td>&lt;statsmodels.regression.linear_model.Regressio...</td>\n",
       "    </tr>\n",
       "  </tbody>\n",
       "</table>\n",
       "</div>"
      ],
      "text/plain": [
       "          RSS                                              model\n",
       "1  767.064707  <statsmodels.regression.linear_model.Regressio...\n",
       "2  761.243972  <statsmodels.regression.linear_model.Regressio...\n",
       "3  750.212961  <statsmodels.regression.linear_model.Regressio...\n",
       "4  749.879708  <statsmodels.regression.linear_model.Regressio...\n",
       "5  740.414794  <statsmodels.regression.linear_model.Regressio...\n",
       "6  736.277321  <statsmodels.regression.linear_model.Regressio...\n",
       "7  736.285923  <statsmodels.regression.linear_model.Regressio..."
      ]
     },
     "execution_count": 281,
     "metadata": {},
     "output_type": "execute_result"
    }
   ],
   "source": [
    "#Best Subset Selection\n",
    "models_best = pd.DataFrame(columns=[\"RSS\", \"model\"])\n",
    "\n",
    "tic = time.time()\n",
    "for i in range(1,8):\n",
    "    models_best.loc[i] = regsubsets(i)\n",
    "\n",
    "toc = time.time()\n",
    "print(\"Total elapsed time:\", (toc-tic), \"seconds.\")\n",
    "\n",
    "warnings.filterwarnings('ignore') #hide warnings\n",
    "\n",
    "models_best"
   ]
  },
  {
   "cell_type": "markdown",
   "metadata": {},
   "source": [
    "# #6.9"
   ]
  },
  {
   "cell_type": "markdown",
   "metadata": {},
   "source": [
    "## (a)"
   ]
  },
  {
   "cell_type": "code",
   "execution_count": 234,
   "metadata": {},
   "outputs": [],
   "source": [
    "College = sm.datasets.get_rdataset(\"College\",\"ISLR\").data"
   ]
  },
  {
   "cell_type": "code",
   "execution_count": 235,
   "metadata": {},
   "outputs": [],
   "source": [
    "X = College.iloc[:,2:]\n",
    "y = College.Apps"
   ]
  },
  {
   "cell_type": "code",
   "execution_count": 236,
   "metadata": {},
   "outputs": [
    {
     "data": {
      "text/html": [
       "<div>\n",
       "<style scoped>\n",
       "    .dataframe tbody tr th:only-of-type {\n",
       "        vertical-align: middle;\n",
       "    }\n",
       "\n",
       "    .dataframe tbody tr th {\n",
       "        vertical-align: top;\n",
       "    }\n",
       "\n",
       "    .dataframe thead th {\n",
       "        text-align: right;\n",
       "    }\n",
       "</style>\n",
       "<table border=\"1\" class=\"dataframe\">\n",
       "  <thead>\n",
       "    <tr style=\"text-align: right;\">\n",
       "      <th></th>\n",
       "      <th>Accept</th>\n",
       "      <th>Enroll</th>\n",
       "      <th>Top10perc</th>\n",
       "      <th>Top25perc</th>\n",
       "      <th>F.Undergrad</th>\n",
       "      <th>P.Undergrad</th>\n",
       "      <th>Outstate</th>\n",
       "      <th>Room.Board</th>\n",
       "      <th>Books</th>\n",
       "      <th>Personal</th>\n",
       "      <th>PhD</th>\n",
       "      <th>Terminal</th>\n",
       "      <th>S.F.Ratio</th>\n",
       "      <th>perc.alumni</th>\n",
       "      <th>Expend</th>\n",
       "      <th>Grad.Rate</th>\n",
       "    </tr>\n",
       "  </thead>\n",
       "  <tbody>\n",
       "    <tr>\n",
       "      <td>Abilene Christian University</td>\n",
       "      <td>1232</td>\n",
       "      <td>721</td>\n",
       "      <td>23</td>\n",
       "      <td>52</td>\n",
       "      <td>2885</td>\n",
       "      <td>537</td>\n",
       "      <td>7440</td>\n",
       "      <td>3300</td>\n",
       "      <td>450</td>\n",
       "      <td>2200</td>\n",
       "      <td>70</td>\n",
       "      <td>78</td>\n",
       "      <td>18.1</td>\n",
       "      <td>12</td>\n",
       "      <td>7041</td>\n",
       "      <td>60</td>\n",
       "    </tr>\n",
       "    <tr>\n",
       "      <td>Adelphi University</td>\n",
       "      <td>1924</td>\n",
       "      <td>512</td>\n",
       "      <td>16</td>\n",
       "      <td>29</td>\n",
       "      <td>2683</td>\n",
       "      <td>1227</td>\n",
       "      <td>12280</td>\n",
       "      <td>6450</td>\n",
       "      <td>750</td>\n",
       "      <td>1500</td>\n",
       "      <td>29</td>\n",
       "      <td>30</td>\n",
       "      <td>12.2</td>\n",
       "      <td>16</td>\n",
       "      <td>10527</td>\n",
       "      <td>56</td>\n",
       "    </tr>\n",
       "    <tr>\n",
       "      <td>Adrian College</td>\n",
       "      <td>1097</td>\n",
       "      <td>336</td>\n",
       "      <td>22</td>\n",
       "      <td>50</td>\n",
       "      <td>1036</td>\n",
       "      <td>99</td>\n",
       "      <td>11250</td>\n",
       "      <td>3750</td>\n",
       "      <td>400</td>\n",
       "      <td>1165</td>\n",
       "      <td>53</td>\n",
       "      <td>66</td>\n",
       "      <td>12.9</td>\n",
       "      <td>30</td>\n",
       "      <td>8735</td>\n",
       "      <td>54</td>\n",
       "    </tr>\n",
       "    <tr>\n",
       "      <td>Agnes Scott College</td>\n",
       "      <td>349</td>\n",
       "      <td>137</td>\n",
       "      <td>60</td>\n",
       "      <td>89</td>\n",
       "      <td>510</td>\n",
       "      <td>63</td>\n",
       "      <td>12960</td>\n",
       "      <td>5450</td>\n",
       "      <td>450</td>\n",
       "      <td>875</td>\n",
       "      <td>92</td>\n",
       "      <td>97</td>\n",
       "      <td>7.7</td>\n",
       "      <td>37</td>\n",
       "      <td>19016</td>\n",
       "      <td>59</td>\n",
       "    </tr>\n",
       "    <tr>\n",
       "      <td>Alaska Pacific University</td>\n",
       "      <td>146</td>\n",
       "      <td>55</td>\n",
       "      <td>16</td>\n",
       "      <td>44</td>\n",
       "      <td>249</td>\n",
       "      <td>869</td>\n",
       "      <td>7560</td>\n",
       "      <td>4120</td>\n",
       "      <td>800</td>\n",
       "      <td>1500</td>\n",
       "      <td>76</td>\n",
       "      <td>72</td>\n",
       "      <td>11.9</td>\n",
       "      <td>2</td>\n",
       "      <td>10922</td>\n",
       "      <td>15</td>\n",
       "    </tr>\n",
       "  </tbody>\n",
       "</table>\n",
       "</div>"
      ],
      "text/plain": [
       "                              Accept  Enroll  Top10perc  Top25perc  \\\n",
       "Abilene Christian University    1232     721         23         52   \n",
       "Adelphi University              1924     512         16         29   \n",
       "Adrian College                  1097     336         22         50   \n",
       "Agnes Scott College              349     137         60         89   \n",
       "Alaska Pacific University        146      55         16         44   \n",
       "\n",
       "                              F.Undergrad  P.Undergrad  Outstate  Room.Board  \\\n",
       "Abilene Christian University         2885          537      7440        3300   \n",
       "Adelphi University                   2683         1227     12280        6450   \n",
       "Adrian College                       1036           99     11250        3750   \n",
       "Agnes Scott College                   510           63     12960        5450   \n",
       "Alaska Pacific University             249          869      7560        4120   \n",
       "\n",
       "                              Books  Personal  PhD  Terminal  S.F.Ratio  \\\n",
       "Abilene Christian University    450      2200   70        78       18.1   \n",
       "Adelphi University              750      1500   29        30       12.2   \n",
       "Adrian College                  400      1165   53        66       12.9   \n",
       "Agnes Scott College             450       875   92        97        7.7   \n",
       "Alaska Pacific University       800      1500   76        72       11.9   \n",
       "\n",
       "                              perc.alumni  Expend  Grad.Rate  \n",
       "Abilene Christian University           12    7041         60  \n",
       "Adelphi University                     16   10527         56  \n",
       "Adrian College                         30    8735         54  \n",
       "Agnes Scott College                    37   19016         59  \n",
       "Alaska Pacific University               2   10922         15  "
      ]
     },
     "execution_count": 236,
     "metadata": {},
     "output_type": "execute_result"
    }
   ],
   "source": [
    "X.head()"
   ]
  },
  {
   "cell_type": "code",
   "execution_count": 237,
   "metadata": {},
   "outputs": [],
   "source": [
    "X_train,  X_test,  y_train,  y_test  =  train_test_split(X, y, random_state=0)"
   ]
  },
  {
   "cell_type": "markdown",
   "metadata": {},
   "source": [
    "## (b)"
   ]
  },
  {
   "cell_type": "code",
   "execution_count": 238,
   "metadata": {},
   "outputs": [
    {
     "data": {
      "text/plain": [
       "0.9000457292126521"
      ]
     },
     "execution_count": 238,
     "metadata": {},
     "output_type": "execute_result"
    }
   ],
   "source": [
    "#linear regression\n",
    "lr = LinearRegression()\n",
    "lr.fit(X_train, y_train)\n",
    "\n",
    "#accuracy\n",
    "lr.score(X_test, y_test)"
   ]
  },
  {
   "cell_type": "markdown",
   "metadata": {},
   "source": [
    "## (c)"
   ]
  },
  {
   "cell_type": "code",
   "execution_count": 239,
   "metadata": {},
   "outputs": [],
   "source": [
    "#standardize X\n",
    "\n",
    "scaler = StandardScaler()\n",
    "\n",
    "scaler = preprocessing.StandardScaler().fit(X_train)\n",
    "X_train_scaled = scaler.transform(X_train) \n",
    "X_test_scaled = scaler.transform(X_test) "
   ]
  },
  {
   "cell_type": "code",
   "execution_count": 242,
   "metadata": {},
   "outputs": [
    {
     "data": {
      "text/plain": [
       "0.9032328113611048"
      ]
     },
     "execution_count": 242,
     "metadata": {},
     "output_type": "execute_result"
    }
   ],
   "source": [
    "#Ridge regression\n",
    "rcv = RidgeCV(alphas=np.linspace(.01, 100, 1000),  cv=10)\n",
    "\n",
    "rcv.fit(X_train_scaled, y_train)\n",
    "\n",
    "#accuracy\n",
    "rcv.score(X_test_scaled,y_test)\n",
    "warnings.filterwarnings('ignore') #hide warnings"
   ]
  },
  {
   "cell_type": "markdown",
   "metadata": {},
   "source": [
    "## (d)"
   ]
  },
  {
   "cell_type": "code",
   "execution_count": 48,
   "metadata": {},
   "outputs": [
    {
     "data": {
      "text/plain": [
       "0.9000490350110231"
      ]
     },
     "execution_count": 48,
     "metadata": {},
     "output_type": "execute_result"
    }
   ],
   "source": [
    "#Lasso regression\n",
    "lcv = LassoCV(alphas=np.linspace(.01, 100, 1000),  cv=10)\n",
    "\n",
    "lcv.fit(X_train_scaled, y_train) \n",
    "\n",
    "#accuracy\n",
    "lcv.score(X_test_scaled,y_test)"
   ]
  },
  {
   "cell_type": "markdown",
   "metadata": {},
   "source": [
    "## (e)"
   ]
  },
  {
   "cell_type": "code",
   "execution_count": 53,
   "metadata": {},
   "outputs": [
    {
     "data": {
      "text/plain": [
       "0.44792060717782123"
      ]
     },
     "execution_count": 53,
     "metadata": {},
     "output_type": "execute_result"
    }
   ],
   "source": [
    "#Principal Component Regression\n",
    "from sklearn.decomposition import PCA\n",
    "\n",
    "pca = PCA()\n",
    "\n",
    "# Run PCA producing the reduced variable Xreg and select the first pc components\n",
    "X_reduced_train = pca.fit_transform(X_train_scaled)\n",
    "\n",
    "X_reduced_test = pca.fit_transform(X_test_scaled)\n",
    "\n",
    "lr.fit(X_reduced_train, y_train)\n",
    "\n",
    "#accuracy\n",
    "lr.score(X_reduced_test, y_test)"
   ]
  },
  {
   "cell_type": "markdown",
   "metadata": {},
   "source": [
    "## (f)"
   ]
  },
  {
   "cell_type": "code",
   "execution_count": 50,
   "metadata": {},
   "outputs": [
    {
     "data": {
      "text/plain": [
       "0.907573557280662"
      ]
     },
     "execution_count": 50,
     "metadata": {},
     "output_type": "execute_result"
    }
   ],
   "source": [
    "#Partial Least Squares Regression\n",
    "from sklearn.cross_decomposition import PLSRegression\n",
    "\n",
    "pls = PLSRegression(n_components=5)\n",
    "\n",
    "pls.fit(X_train_scaled, y_train)\n",
    "\n",
    "#accuracy\n",
    "pls.score(X_test_scaled,y_test)"
   ]
  },
  {
   "cell_type": "markdown",
   "metadata": {},
   "source": [
    "## (g)"
   ]
  },
  {
   "cell_type": "markdown",
   "metadata": {},
   "source": [
    "The accuracy are not much different but PCR. The PLR seems to perform better than the others."
   ]
  },
  {
   "cell_type": "markdown",
   "metadata": {},
   "source": [
    "# #6.10"
   ]
  },
  {
   "cell_type": "markdown",
   "metadata": {},
   "source": [
    "## (a)"
   ]
  },
  {
   "cell_type": "code",
   "execution_count": 3,
   "metadata": {},
   "outputs": [],
   "source": [
    "#Create a data set\n",
    "np.random.seed(0)\n",
    "\n",
    "# Dataframe with random numbers and the specified dimensions\n",
    "n = 1000\n",
    "p = 20\n",
    "X = pd.DataFrame(np.random.normal(size=(n, p)))\n",
    "\n",
    "# Epsilon\n",
    "e = np.random.normal(size=n)\n",
    "\n",
    "# Coefficient b1\n",
    "b1 = np.random.normal(size=p)\n",
    "# Random number of b1 elements with value zero\n",
    "for i in range(0, np.random.randint(0,p)):\n",
    "    b1[np.random.randint(0,p)] = 0\n",
    "\n",
    "# model\n",
    "y = np.dot(X, b1) + e"
   ]
  },
  {
   "cell_type": "markdown",
   "metadata": {},
   "source": [
    "## (b)"
   ]
  },
  {
   "cell_type": "code",
   "execution_count": 4,
   "metadata": {},
   "outputs": [],
   "source": [
    "X_train, X_test, y_train, y_test = train_test_split(X, y, test_size = .9)"
   ]
  },
  {
   "cell_type": "markdown",
   "metadata": {},
   "source": [
    "## (c)"
   ]
  },
  {
   "cell_type": "code",
   "execution_count": 26,
   "metadata": {},
   "outputs": [],
   "source": [
    "#Best Subset Selection\n",
    "from sklearn.model_selection import cross_val_predict \n",
    "from sklearn.metrics import mean_squared_error, r2_score\n",
    "\n",
    "def getRSS_validation(y_train, X_train, y_test, X_test,  feature_list):\n",
    "    model = sm.OLS(y_train, X_train[list(feature_list)]).fit()\n",
    "    RSS = ((model.predict(X_test[list(feature_list)]) - y_test) ** 2).sum()\n",
    "    return {'Model':model, \"RSS\":RSS}\n",
    "\n",
    "def bestModel_validation(y_train, X_train, y_test, X_test, K):\n",
    "    results = []\n",
    "    for c in itertools.combinations(X_train.columns, K):\n",
    "        results.append(getRSS_validation(y_train, X_train, y_test, X_test, c))     \n",
    "    model_all =  pd.DataFrame(results)\n",
    "    \n",
    "    best_model = model_all.loc[model_all[\"RSS\"].argmin()] ## this could be modified to have the top several models\n",
    "    return best_model"
   ]
  },
  {
   "cell_type": "code",
   "execution_count": 27,
   "metadata": {},
   "outputs": [],
   "source": [
    "max_feature = 3\n",
    "\n",
    "models_validation = pd.DataFrame(columns=[\"RSS\", \"Model\"])\n",
    "for i in range(1,(max_feature+1)):  # for illustration purpuse, I just run for 1 - max_fearure features \n",
    "    models_validation.loc[i] = bestModel_validation(y_train, X_train, y_test, X_test, i) \n",
    "    \n",
    "warnings.filterwarnings('ignore') #hide warnings"
   ]
  },
  {
   "cell_type": "markdown",
   "metadata": {},
   "source": [
    "## (d)"
   ]
  },
  {
   "cell_type": "code",
   "execution_count": 17,
   "metadata": {},
   "outputs": [
    {
     "data": {
      "image/png": "[encoded data removed]",
      "text/plain": [
       "<Figure size 432x288 with 1 Axes>"
      ]
     },
     "metadata": {
      "needs_background": "light"
     },
     "output_type": "display_data"
    }
   ],
   "source": [
    "plt.figure()\n",
    "plt.plot(models_validation[\"RSS\"])\n",
    "plt.xlabel('# features')\n",
    "plt.ylabel('RSS')\n",
    "plt.show()"
   ]
  },
  {
   "cell_type": "markdown",
   "metadata": {},
   "source": [
    "## (e)"
   ]
  },
  {
   "cell_type": "code",
   "execution_count": 31,
   "metadata": {},
   "outputs": [
    {
     "name": "stdout",
     "output_type": "stream",
     "text": [
      "Best max_feature variable from best subset selection on traning and validation split\n",
      "1    -1.500438\n",
      "3     2.136651\n",
      "15    2.027191\n",
      "dtype: float64\n"
     ]
    }
   ],
   "source": [
    "print('Best max_feature variable from best subset selection on traning and validation split')\n",
    "print (models_validation.loc[max_feature, 'Model'].params)"
   ]
  },
  {
   "cell_type": "markdown",
   "metadata": {},
   "source": [
    "## (f)"
   ]
  },
  {
   "cell_type": "code",
   "execution_count": 32,
   "metadata": {},
   "outputs": [],
   "source": [
    "k = 10\n",
    "np.random.seed(seed = 21)\n",
    "train_index = np.random.choice(k, size = len(y), replace = True)  # Randomly assign each observations into folds\n",
    "cv_errors = pd.DataFrame(columns=range(1,k+1), index=range(1,len(X.columns) + 1))\n",
    "\n",
    "models_cv = pd.DataFrame(columns=[\"RSS\", \"Model\"])\n",
    "for j in range(1,k+1):\n",
    "    feature_list = []\n",
    "    for i in range(1,len(X.columns)+1):\n",
    "        models_cv.loc[i] = forward_select_validation(y[train_index!= (j-1)], X[train_index != (j-1)], \n",
    "                                                     y[train_index == (j-1)],X[train_index == (j-1)], \n",
    "                                                     feature_list)\n",
    "        \n",
    "        cv_errors[j][i] = models_cv.loc[i][\"RSS\"]\n",
    "        feature_list = models_cv.loc[i][\"Model\"].model.exog_names"
   ]
  },
  {
   "cell_type": "code",
   "execution_count": 34,
   "metadata": {},
   "outputs": [
    {
     "name": "stdout",
     "output_type": "stream",
     "text": [
      "                                 OLS Regression Results                                \n",
      "=======================================================================================\n",
      "Dep. Variable:                      y   R-squared (uncentered):                   0.570\n",
      "Model:                            OLS   Adj. R-squared (uncentered):              0.567\n",
      "Method:                 Least Squares   F-statistic:                              232.1\n",
      "Date:                Fri, 13 Mar 2020   Prob (F-statistic):                   9.63e-158\n",
      "Time:                        17:12:14   Log-Likelihood:                         -2253.3\n",
      "No. Observations:                 881   AIC:                                      4517.\n",
      "Df Residuals:                     876   BIC:                                      4541.\n",
      "Df Model:                           5                                                  \n",
      "Covariance Type:            nonrobust                                                  \n",
      "==============================================================================\n",
      "                 coef    std err          t      P>|t|      [0.025      0.975]\n",
      "------------------------------------------------------------------------------\n",
      "15             1.9298      0.112     17.264      0.000       1.710       2.149\n",
      "1             -1.6219      0.108    -14.968      0.000      -1.835      -1.409\n",
      "8             -1.4265      0.103    -13.846      0.000      -1.629      -1.224\n",
      "3              1.7699      0.109     16.301      0.000       1.557       1.983\n",
      "6              1.4911      0.106     14.046      0.000       1.283       1.699\n",
      "==============================================================================\n",
      "Omnibus:                        0.063   Durbin-Watson:                   1.953\n",
      "Prob(Omnibus):                  0.969   Jarque-Bera (JB):                0.123\n",
      "Skew:                           0.009   Prob(JB):                        0.940\n",
      "Kurtosis:                       2.945   Cond. No.                         1.12\n",
      "==============================================================================\n",
      "\n",
      "Warnings:\n",
      "[1] Standard Errors assume that the covariance matrix of the errors is correctly specified.\n"
     ]
    }
   ],
   "source": [
    "print(models_cv.loc[5, \"Model\"].summary())"
   ]
  },
  {
   "cell_type": "markdown",
   "metadata": {},
   "source": [
    "## (g)"
   ]
  },
  {
   "cell_type": "code",
   "execution_count": 33,
   "metadata": {},
   "outputs": [
    {
     "data": {
      "image/png": "[encoded data removed]",
      "text/plain": [
       "<Figure size 432x288 with 1 Axes>"
      ]
     },
     "metadata": {
      "needs_background": "light"
     },
     "output_type": "display_data"
    }
   ],
   "source": [
    "cv_errors_mean = cv_errors.mean(axis = 1)\n",
    "plt.figure()\n",
    "plt.plot(cv_errors_mean)\n",
    "plt.xlabel('# features')\n",
    "plt.ylabel('RSS')\n",
    "plt.show()"
   ]
  },
  {
   "cell_type": "markdown",
   "metadata": {},
   "source": [
    "# #6.11"
   ]
  },
  {
   "cell_type": "code",
   "execution_count": 63,
   "metadata": {},
   "outputs": [],
   "source": [
    "Boston = sm.datasets.get_rdataset(\"Boston\",\"MASS\").data"
   ]
  },
  {
   "cell_type": "markdown",
   "metadata": {},
   "source": [
    "## (a)"
   ]
  },
  {
   "cell_type": "code",
   "execution_count": 64,
   "metadata": {},
   "outputs": [
    {
     "data": {
      "text/html": [
       "<div>\n",
       "<style scoped>\n",
       "    .dataframe tbody tr th:only-of-type {\n",
       "        vertical-align: middle;\n",
       "    }\n",
       "\n",
       "    .dataframe tbody tr th {\n",
       "        vertical-align: top;\n",
       "    }\n",
       "\n",
       "    .dataframe thead th {\n",
       "        text-align: right;\n",
       "    }\n",
       "</style>\n",
       "<table border=\"1\" class=\"dataframe\">\n",
       "  <thead>\n",
       "    <tr style=\"text-align: right;\">\n",
       "      <th></th>\n",
       "      <th>crim</th>\n",
       "      <th>zn</th>\n",
       "      <th>indus</th>\n",
       "      <th>chas</th>\n",
       "      <th>nox</th>\n",
       "      <th>rm</th>\n",
       "      <th>age</th>\n",
       "      <th>dis</th>\n",
       "      <th>rad</th>\n",
       "      <th>tax</th>\n",
       "      <th>ptratio</th>\n",
       "      <th>black</th>\n",
       "      <th>lstat</th>\n",
       "      <th>medv</th>\n",
       "    </tr>\n",
       "  </thead>\n",
       "  <tbody>\n",
       "    <tr>\n",
       "      <td>0</td>\n",
       "      <td>0.00632</td>\n",
       "      <td>18.0</td>\n",
       "      <td>2.31</td>\n",
       "      <td>0</td>\n",
       "      <td>0.538</td>\n",
       "      <td>6.575</td>\n",
       "      <td>65.2</td>\n",
       "      <td>4.0900</td>\n",
       "      <td>1</td>\n",
       "      <td>296</td>\n",
       "      <td>15.3</td>\n",
       "      <td>396.90</td>\n",
       "      <td>4.98</td>\n",
       "      <td>24.0</td>\n",
       "    </tr>\n",
       "    <tr>\n",
       "      <td>1</td>\n",
       "      <td>0.02731</td>\n",
       "      <td>0.0</td>\n",
       "      <td>7.07</td>\n",
       "      <td>0</td>\n",
       "      <td>0.469</td>\n",
       "      <td>6.421</td>\n",
       "      <td>78.9</td>\n",
       "      <td>4.9671</td>\n",
       "      <td>2</td>\n",
       "      <td>242</td>\n",
       "      <td>17.8</td>\n",
       "      <td>396.90</td>\n",
       "      <td>9.14</td>\n",
       "      <td>21.6</td>\n",
       "    </tr>\n",
       "    <tr>\n",
       "      <td>2</td>\n",
       "      <td>0.02729</td>\n",
       "      <td>0.0</td>\n",
       "      <td>7.07</td>\n",
       "      <td>0</td>\n",
       "      <td>0.469</td>\n",
       "      <td>7.185</td>\n",
       "      <td>61.1</td>\n",
       "      <td>4.9671</td>\n",
       "      <td>2</td>\n",
       "      <td>242</td>\n",
       "      <td>17.8</td>\n",
       "      <td>392.83</td>\n",
       "      <td>4.03</td>\n",
       "      <td>34.7</td>\n",
       "    </tr>\n",
       "    <tr>\n",
       "      <td>3</td>\n",
       "      <td>0.03237</td>\n",
       "      <td>0.0</td>\n",
       "      <td>2.18</td>\n",
       "      <td>0</td>\n",
       "      <td>0.458</td>\n",
       "      <td>6.998</td>\n",
       "      <td>45.8</td>\n",
       "      <td>6.0622</td>\n",
       "      <td>3</td>\n",
       "      <td>222</td>\n",
       "      <td>18.7</td>\n",
       "      <td>394.63</td>\n",
       "      <td>2.94</td>\n",
       "      <td>33.4</td>\n",
       "    </tr>\n",
       "    <tr>\n",
       "      <td>4</td>\n",
       "      <td>0.06905</td>\n",
       "      <td>0.0</td>\n",
       "      <td>2.18</td>\n",
       "      <td>0</td>\n",
       "      <td>0.458</td>\n",
       "      <td>7.147</td>\n",
       "      <td>54.2</td>\n",
       "      <td>6.0622</td>\n",
       "      <td>3</td>\n",
       "      <td>222</td>\n",
       "      <td>18.7</td>\n",
       "      <td>396.90</td>\n",
       "      <td>5.33</td>\n",
       "      <td>36.2</td>\n",
       "    </tr>\n",
       "  </tbody>\n",
       "</table>\n",
       "</div>"
      ],
      "text/plain": [
       "      crim    zn  indus  chas    nox     rm   age     dis  rad  tax  ptratio  \\\n",
       "0  0.00632  18.0   2.31     0  0.538  6.575  65.2  4.0900    1  296     15.3   \n",
       "1  0.02731   0.0   7.07     0  0.469  6.421  78.9  4.9671    2  242     17.8   \n",
       "2  0.02729   0.0   7.07     0  0.469  7.185  61.1  4.9671    2  242     17.8   \n",
       "3  0.03237   0.0   2.18     0  0.458  6.998  45.8  6.0622    3  222     18.7   \n",
       "4  0.06905   0.0   2.18     0  0.458  7.147  54.2  6.0622    3  222     18.7   \n",
       "\n",
       "    black  lstat  medv  \n",
       "0  396.90   4.98  24.0  \n",
       "1  396.90   9.14  21.6  \n",
       "2  392.83   4.03  34.7  \n",
       "3  394.63   2.94  33.4  \n",
       "4  396.90   5.33  36.2  "
      ]
     },
     "execution_count": 64,
     "metadata": {},
     "output_type": "execute_result"
    }
   ],
   "source": [
    "Boston.head()"
   ]
  },
  {
   "cell_type": "code",
   "execution_count": 158,
   "metadata": {},
   "outputs": [],
   "source": [
    "y = Boston.crim\n",
    "X = Boston.iloc[:,1:]\n",
    "\n",
    "X_train,  X_test,  y_train,  y_test  =  train_test_split(X, y, random_state=0)"
   ]
  },
  {
   "cell_type": "code",
   "execution_count": 159,
   "metadata": {},
   "outputs": [],
   "source": [
    "#Best Subset Selection \n",
    "def processSubset(feature_set):\n",
    "    # Fit model on feature_set and calculate RSS\n",
    "    model = sm.OLS(y_train,X_train[list(feature_set)])\n",
    "    regr = model.fit()\n",
    "    RSS = ((regr.predict(X_test[list(feature_set)]) - y_test) ** 2).sum()\n",
    "    return {\"model\":regr, \"RSS\":RSS}\n",
    "\n",
    "def regsubsets(k):\n",
    "    \n",
    "    tic = time.time()\n",
    "    \n",
    "    results = []\n",
    "    \n",
    "    for combo in itertools.combinations(X.columns, k):\n",
    "        results.append(processSubset(combo))\n",
    "    \n",
    "    # Wrap everything up in a nice dataframe\n",
    "    models = pd.DataFrame(results)\n",
    "    \n",
    "    # Choose the model with the highest RSS\n",
    "    best_model = models.loc[models['RSS'].argmin()]\n",
    "    \n",
    "    toc = time.time()\n",
    "    print(\"Processed\", models.shape[0], \"models on\", k, \"predictors in\", (toc-tic), \"seconds.\")\n",
    "    \n",
    "    # Return the best model, along with some other useful information about the model\n",
    "    return best_model"
   ]
  },
  {
   "cell_type": "code",
   "execution_count": 160,
   "metadata": {},
   "outputs": [
    {
     "name": "stderr",
     "output_type": "stream",
     "text": [
      "/Users/jason13nn/opt/anaconda3/lib/python3.7/site-packages/ipykernel_launcher.py:22: FutureWarning: \n",
      "The current behaviour of 'Series.argmin' is deprecated, use 'idxmin'\n",
      "instead.\n",
      "The behavior of 'argmin' will be corrected to return the positional\n",
      "minimum in the future. For now, use 'series.values.argmin' or\n",
      "'np.argmin(np.array(values))' to get the position of the minimum\n",
      "row.\n"
     ]
    },
    {
     "name": "stdout",
     "output_type": "stream",
     "text": [
      "Processed 13 models on 1 predictors in 0.05172896385192871 seconds.\n",
      "Processed 78 models on 2 predictors in 0.20470213890075684 seconds.\n",
      "Processed 286 models on 3 predictors in 0.7506909370422363 seconds.\n",
      "Processed 715 models on 4 predictors in 2.198258876800537 seconds.\n",
      "Processed 1287 models on 5 predictors in 3.4549171924591064 seconds.\n",
      "Processed 1716 models on 6 predictors in 4.514233112335205 seconds.\n",
      "Processed 1716 models on 7 predictors in 5.106358051300049 seconds.\n",
      "Total elapsed time: 16.377593994140625 seconds.\n"
     ]
    }
   ],
   "source": [
    "models_best = pd.DataFrame(columns=[\"RSS\", \"model\"])\n",
    "\n",
    "tic = time.time()\n",
    "for i in range(1,8):\n",
    "    models_best.loc[i] = regsubsets(i)\n",
    "\n",
    "toc = time.time()\n",
    "print(\"Total elapsed time:\", (toc-tic), \"seconds.\")"
   ]
  },
  {
   "cell_type": "code",
   "execution_count": 81,
   "metadata": {},
   "outputs": [
    {
     "name": "stdout",
     "output_type": "stream",
     "text": [
      "                                 OLS Regression Results                                \n",
      "=======================================================================================\n",
      "Dep. Variable:                   crim   R-squared (uncentered):                   0.475\n",
      "Model:                            OLS   Adj. R-squared (uncentered):              0.472\n",
      "Method:                 Least Squares   F-statistic:                              170.5\n",
      "Date:                Fri, 13 Mar 2020   Prob (F-statistic):                    1.81e-53\n",
      "Time:                        12:48:53   Log-Likelihood:                         -1245.3\n",
      "No. Observations:                 379   AIC:                                      2495.\n",
      "Df Residuals:                     377   BIC:                                      2502.\n",
      "Df Model:                           2                                                  \n",
      "Covariance Type:            nonrobust                                                  \n",
      "==============================================================================\n",
      "                 coef    std err          t      P>|t|      [0.025      0.975]\n",
      "------------------------------------------------------------------------------\n",
      "rad            0.5643      0.034     16.603      0.000       0.498       0.631\n",
      "black         -0.0053      0.001     -4.479      0.000      -0.008      -0.003\n",
      "==============================================================================\n",
      "Omnibus:                      538.751   Durbin-Watson:                   2.171\n",
      "Prob(Omnibus):                  0.000   Jarque-Bera (JB):            83590.433\n",
      "Skew:                           7.173   Prob(JB):                         0.00\n",
      "Kurtosis:                      74.327   Cond. No.                         37.7\n",
      "==============================================================================\n",
      "\n",
      "Warnings:\n",
      "[1] Standard Errors assume that the covariance matrix of the errors is correctly specified.\n"
     ]
    }
   ],
   "source": [
    "#Best model\n",
    "print(models_best.loc[2, \"model\"].summary())"
   ]
  },
  {
   "cell_type": "code",
   "execution_count": 84,
   "metadata": {},
   "outputs": [],
   "source": [
    "#Standardize X for Lasso, Ridge, and PCR regression\n",
    "scaler = preprocessing.StandardScaler().fit(X_train)\n",
    "X_train_scaled = scaler.transform(X_train) \n",
    "X_test_scaled = scaler.transform(X_test)"
   ]
  },
  {
   "cell_type": "code",
   "execution_count": 85,
   "metadata": {},
   "outputs": [
    {
     "data": {
      "text/plain": [
       "LassoCV(alphas=array([1.00000000e-02, 1.10090090e-01, 2.10180180e-01, 3.10270270e-01,\n",
       "       4.10360360e-01, 5.10450450e-01, 6.10540541e-01, 7.10630631e-01,\n",
       "       8.10720721e-01, 9.10810811e-01, 1.01090090e+00, 1.11099099e+00,\n",
       "       1.21108108e+00, 1.31117117e+00, 1.41126126e+00, 1.51135135e+00,\n",
       "       1.61144144e+00, 1.71153153e+00, 1.81162162e+00, 1.91171171e+00,\n",
       "       2.01180180e+00, 2.11189189e+0...\n",
       "       9.88990090e+01, 9.89990991e+01, 9.90991892e+01, 9.91992793e+01,\n",
       "       9.92993694e+01, 9.93994595e+01, 9.94995495e+01, 9.95996396e+01,\n",
       "       9.96997297e+01, 9.97998198e+01, 9.98999099e+01, 1.00000000e+02]),\n",
       "        copy_X=True, cv=10, eps=0.001, fit_intercept=True, max_iter=1000,\n",
       "        n_alphas=100, n_jobs=None, normalize=False, positive=False,\n",
       "        precompute='auto', random_state=None, selection='cyclic', tol=0.0001,\n",
       "        verbose=False)"
      ]
     },
     "execution_count": 85,
     "metadata": {},
     "output_type": "execute_result"
    }
   ],
   "source": [
    "#Lasso regression\n",
    "lcv = LassoCV(alphas=np.linspace(.01, 100, 1000),  cv=10)\n",
    "\n",
    "lcv.fit(X_train_scaled, y_train) "
   ]
  },
  {
   "cell_type": "code",
   "execution_count": 86,
   "metadata": {},
   "outputs": [
    {
     "name": "stderr",
     "output_type": "stream",
     "text": [
      "/Users/jason13nn/opt/anaconda3/lib/python3.7/site-packages/sklearn/model_selection/_search.py:814: DeprecationWarning: The default of the `iid` parameter will change from True to False in version 0.22 and will be removed in 0.24. This will change numeric results when test-set sizes are unequal.\n",
      "  DeprecationWarning)\n"
     ]
    },
    {
     "data": {
      "text/plain": [
       "RidgeCV(alphas=array([1.00000000e-02, 1.10090090e-01, 2.10180180e-01, 3.10270270e-01,\n",
       "       4.10360360e-01, 5.10450450e-01, 6.10540541e-01, 7.10630631e-01,\n",
       "       8.10720721e-01, 9.10810811e-01, 1.01090090e+00, 1.11099099e+00,\n",
       "       1.21108108e+00, 1.31117117e+00, 1.41126126e+00, 1.51135135e+00,\n",
       "       1.61144144e+00, 1.71153153e+00, 1.81162162e+00, 1.91171171e+00,\n",
       "       2.01180180e+00, 2.11189189e+0...\n",
       "       9.80982883e+01, 9.81983784e+01, 9.82984685e+01, 9.83985586e+01,\n",
       "       9.84986486e+01, 9.85987387e+01, 9.86988288e+01, 9.87989189e+01,\n",
       "       9.88990090e+01, 9.89990991e+01, 9.90991892e+01, 9.91992793e+01,\n",
       "       9.92993694e+01, 9.93994595e+01, 9.94995495e+01, 9.95996396e+01,\n",
       "       9.96997297e+01, 9.97998198e+01, 9.98999099e+01, 1.00000000e+02]),\n",
       "        cv=10, fit_intercept=True, gcv_mode=None, normalize=False, scoring=None,\n",
       "        store_cv_values=False)"
      ]
     },
     "execution_count": 86,
     "metadata": {},
     "output_type": "execute_result"
    }
   ],
   "source": [
    "#Ridge regression\n",
    "rcv = RidgeCV(alphas=np.linspace(.01, 100, 1000),  cv=10)\n",
    "\n",
    "rcv.fit(X_train_scaled, y_train)"
   ]
  },
  {
   "cell_type": "code",
   "execution_count": 87,
   "metadata": {},
   "outputs": [
    {
     "data": {
      "text/plain": [
       "LinearRegression(copy_X=True, fit_intercept=True, n_jobs=None, normalize=False)"
      ]
     },
     "execution_count": 87,
     "metadata": {},
     "output_type": "execute_result"
    }
   ],
   "source": [
    "# Run PCA producing the reduced variable Xreg and select the first pc components\n",
    "X_reduced_train = pca.fit_transform(X_train_scaled)\n",
    "\n",
    "X_reduced_test = pca.fit_transform(X_test_scaled)\n",
    "\n",
    "lr.fit(X_reduced_train, y_train)"
   ]
  },
  {
   "cell_type": "markdown",
   "metadata": {},
   "source": [
    "## (b)"
   ]
  },
  {
   "cell_type": "code",
   "execution_count": 88,
   "metadata": {},
   "outputs": [
    {
     "data": {
      "text/plain": [
       "0.4327626140028401"
      ]
     },
     "execution_count": 88,
     "metadata": {},
     "output_type": "execute_result"
    }
   ],
   "source": [
    "#accuracy for Lasso\n",
    "lcv.score(X_test_scaled,y_test)"
   ]
  },
  {
   "cell_type": "code",
   "execution_count": 89,
   "metadata": {},
   "outputs": [
    {
     "data": {
      "text/plain": [
       "0.4255239919763707"
      ]
     },
     "execution_count": 89,
     "metadata": {},
     "output_type": "execute_result"
    }
   ],
   "source": [
    "#accuracy for Ridge\n",
    "rcv.score(X_test_scaled,y_test)"
   ]
  },
  {
   "cell_type": "markdown",
   "metadata": {},
   "source": [
    "Probably choose the lasso model because its test MSE is close to best and eliminates some predictors to reduce model complexity."
   ]
  },
  {
   "cell_type": "markdown",
   "metadata": {},
   "source": [
    "## (c)"
   ]
  },
  {
   "cell_type": "markdown",
   "metadata": {},
   "source": [
    "No. Not all the predictors add much value to the model."
   ]
  }
 ],
 "metadata": {
  "kernelspec": {
   "display_name": "Python 3",
   "language": "python",
   "name": "python3"
  },
  "language_info": {
   "codemirror_mode": {
    "name": "ipython",
    "version": 3
   },
   "file_extension": ".py",
   "mimetype": "text/x-python",
   "name": "python",
   "nbconvert_exporter": "python",
   "pygments_lexer": "ipython3",
   "version": "3.7.4"
  }
 },
 "nbformat": 4,
 "nbformat_minor": 2
}
